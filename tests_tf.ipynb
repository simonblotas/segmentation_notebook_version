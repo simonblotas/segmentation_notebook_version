{
 "cells": [
  {
   "cell_type": "markdown",
   "metadata": {},
   "source": [
    "# Imports"
   ]
  },
  {
   "cell_type": "code",
   "execution_count": 2,
   "metadata": {},
   "outputs": [
    {
     "name": "stdout",
     "output_type": "stream",
     "text": [
      "TensorFlow version: 2.13.0\n"
     ]
    }
   ],
   "source": [
    "import tensorflow as tf\n",
    "print(\"TensorFlow version:\", tf.__version__)"
   ]
  },
  {
   "cell_type": "code",
   "execution_count": 3,
   "metadata": {},
   "outputs": [
    {
     "name": "stdout",
     "output_type": "stream",
     "text": [
      "(16, 10000, 3)\n"
     ]
    }
   ],
   "source": [
    "# Create a tensor of shape (16, 10000, 3) filled with ones\n",
    "tensor_shape = (16, 10000, 3)\n",
    "my_tensor = tf.ones(tensor_shape)\n",
    "\n",
    "# Check the shape of the created tensor\n",
    "print(my_tensor.shape)"
   ]
  },
  {
   "cell_type": "code",
   "execution_count": 4,
   "metadata": {},
   "outputs": [
    {
     "name": "stdout",
     "output_type": "stream",
     "text": [
      "tf.Tensor(\n",
      "[[1. 2. 3.]\n",
      " [4. 5. 6.]], shape=(2, 3), dtype=float64)\n"
     ]
    }
   ],
   "source": [
    "import numpy as np\n",
    "import tensorflow as tf\n",
    "\n",
    "# Create a NumPy array\n",
    "numpy_array = np.array([[1.0, 2.0, 3.0], [4.0, 5.0, 6.0]])\n",
    "\n",
    "# Convert the NumPy array to a TensorFlow tensor\n",
    "tensor_from_numpy = tf.convert_to_tensor(numpy_array)\n",
    "\n",
    "# Check the resulting TensorFlow tensor\n",
    "print(tensor_from_numpy)\n"
   ]
  },
  {
   "cell_type": "code",
   "execution_count": null,
   "metadata": {},
   "outputs": [],
   "source": [
    "# Create a sequential model\n",
    "model = tf.keras.Sequential()\n",
    "\n",
    "# Add a convolutional layer\n",
    "model.add(tf.keras.layers.Conv2D(32, kernel_size=(300, 3, 3), activation='relu', input_shape=(64, 64, 3)))"
   ]
  },
  {
   "cell_type": "code",
   "execution_count": 8,
   "metadata": {},
   "outputs": [
    {
     "ename": "ValueError",
     "evalue": "Input 0 of layer \"conv3d\" is incompatible with the layer: expected min_ndim=5, found ndim=3. Full shape received: (16, 10000, 3)",
     "output_type": "error",
     "traceback": [
      "\u001b[1;31m---------------------------------------------------------------------------\u001b[0m",
      "\u001b[1;31mValueError\u001b[0m                                Traceback (most recent call last)",
      "Cell \u001b[1;32mIn[8], line 3\u001b[0m\n\u001b[0;32m      1\u001b[0m input_shape \u001b[39m=\u001b[39m (\u001b[39m16\u001b[39m, \u001b[39m10000\u001b[39m, \u001b[39m3\u001b[39m)\n\u001b[0;32m      2\u001b[0m x \u001b[39m=\u001b[39m tf\u001b[39m.\u001b[39mrandom\u001b[39m.\u001b[39mnormal(input_shape)\n\u001b[1;32m----> 3\u001b[0m y \u001b[39m=\u001b[39m tf\u001b[39m.\u001b[39;49mkeras\u001b[39m.\u001b[39;49mlayers\u001b[39m.\u001b[39;49mConv3D(\n\u001b[0;32m      4\u001b[0m \u001b[39m1\u001b[39;49m, kernel_size\u001b[39m=\u001b[39;49m(\u001b[39m300\u001b[39;49m, \u001b[39m3\u001b[39;49m, \u001b[39m3\u001b[39;49m), activation\u001b[39m=\u001b[39;49m\u001b[39m'\u001b[39;49m\u001b[39mrelu\u001b[39;49m\u001b[39m'\u001b[39;49m, input_shape\u001b[39m=\u001b[39;49minput_shape[\u001b[39m1\u001b[39;49m:])(x)\n\u001b[0;32m      5\u001b[0m \u001b[39mprint\u001b[39m(y\u001b[39m.\u001b[39mshape)\n",
      "File \u001b[1;32mc:\\Users\\sblot\\anaconda3\\envs\\Desktop\\lib\\site-packages\\keras\\src\\utils\\traceback_utils.py:70\u001b[0m, in \u001b[0;36mfilter_traceback.<locals>.error_handler\u001b[1;34m(*args, **kwargs)\u001b[0m\n\u001b[0;32m     67\u001b[0m     filtered_tb \u001b[39m=\u001b[39m _process_traceback_frames(e\u001b[39m.\u001b[39m__traceback__)\n\u001b[0;32m     68\u001b[0m     \u001b[39m# To get the full stack trace, call:\u001b[39;00m\n\u001b[0;32m     69\u001b[0m     \u001b[39m# `tf.debugging.disable_traceback_filtering()`\u001b[39;00m\n\u001b[1;32m---> 70\u001b[0m     \u001b[39mraise\u001b[39;00m e\u001b[39m.\u001b[39mwith_traceback(filtered_tb) \u001b[39mfrom\u001b[39;00m \u001b[39mNone\u001b[39;00m\n\u001b[0;32m     71\u001b[0m \u001b[39mfinally\u001b[39;00m:\n\u001b[0;32m     72\u001b[0m     \u001b[39mdel\u001b[39;00m filtered_tb\n",
      "File \u001b[1;32mc:\\Users\\sblot\\anaconda3\\envs\\Desktop\\lib\\site-packages\\keras\\src\\engine\\input_spec.py:253\u001b[0m, in \u001b[0;36massert_input_compatibility\u001b[1;34m(input_spec, inputs, layer_name)\u001b[0m\n\u001b[0;32m    251\u001b[0m     ndim \u001b[39m=\u001b[39m x\u001b[39m.\u001b[39mshape\u001b[39m.\u001b[39mrank\n\u001b[0;32m    252\u001b[0m     \u001b[39mif\u001b[39;00m ndim \u001b[39mis\u001b[39;00m \u001b[39mnot\u001b[39;00m \u001b[39mNone\u001b[39;00m \u001b[39mand\u001b[39;00m ndim \u001b[39m<\u001b[39m spec\u001b[39m.\u001b[39mmin_ndim:\n\u001b[1;32m--> 253\u001b[0m         \u001b[39mraise\u001b[39;00m \u001b[39mValueError\u001b[39;00m(\n\u001b[0;32m    254\u001b[0m             \u001b[39mf\u001b[39m\u001b[39m'\u001b[39m\u001b[39mInput \u001b[39m\u001b[39m{\u001b[39;00minput_index\u001b[39m}\u001b[39;00m\u001b[39m of layer \u001b[39m\u001b[39m\"\u001b[39m\u001b[39m{\u001b[39;00mlayer_name\u001b[39m}\u001b[39;00m\u001b[39m\"\u001b[39m\u001b[39m \u001b[39m\u001b[39m'\u001b[39m\n\u001b[0;32m    255\u001b[0m             \u001b[39m\"\u001b[39m\u001b[39mis incompatible with the layer: \u001b[39m\u001b[39m\"\u001b[39m\n\u001b[0;32m    256\u001b[0m             \u001b[39mf\u001b[39m\u001b[39m\"\u001b[39m\u001b[39mexpected min_ndim=\u001b[39m\u001b[39m{\u001b[39;00mspec\u001b[39m.\u001b[39mmin_ndim\u001b[39m}\u001b[39;00m\u001b[39m, \u001b[39m\u001b[39m\"\u001b[39m\n\u001b[0;32m    257\u001b[0m             \u001b[39mf\u001b[39m\u001b[39m\"\u001b[39m\u001b[39mfound ndim=\u001b[39m\u001b[39m{\u001b[39;00mndim\u001b[39m}\u001b[39;00m\u001b[39m. \u001b[39m\u001b[39m\"\u001b[39m\n\u001b[0;32m    258\u001b[0m             \u001b[39mf\u001b[39m\u001b[39m\"\u001b[39m\u001b[39mFull shape received: \u001b[39m\u001b[39m{\u001b[39;00m\u001b[39mtuple\u001b[39m(shape)\u001b[39m}\u001b[39;00m\u001b[39m\"\u001b[39m\n\u001b[0;32m    259\u001b[0m         )\n\u001b[0;32m    260\u001b[0m \u001b[39m# Check dtype.\u001b[39;00m\n\u001b[0;32m    261\u001b[0m \u001b[39mif\u001b[39;00m spec\u001b[39m.\u001b[39mdtype \u001b[39mis\u001b[39;00m \u001b[39mnot\u001b[39;00m \u001b[39mNone\u001b[39;00m:\n",
      "\u001b[1;31mValueError\u001b[0m: Input 0 of layer \"conv3d\" is incompatible with the layer: expected min_ndim=5, found ndim=3. Full shape received: (16, 10000, 3)"
     ]
    }
   ],
   "source": [
    "input_shape = (16, 10000, 3)\n",
    "x = tf.random.normal(input_shape)\n",
    "y = tf.keras.layers.Conv3D(\n",
    "1, kernel_size=(300, 3, 3), activation='relu', input_shape=input_shape[1:])(x)\n",
    "print(y.shape)\n"
   ]
  },
  {
   "cell_type": "code",
   "execution_count": 13,
   "metadata": {},
   "outputs": [],
   "source": [
    "import tensorflow as tf\n",
    "\n",
    "def convolution_layer(kernel, bias, x, stride=2):\n",
    "    \"\"\"Simple convolutional layer\"\"\"\n",
    "    # Get the dimensions of the input tensor and kernel\n",
    "    input_shape = x.shape\n",
    "    kernel_shape = kernel.shape\n",
    "\n",
    "    # Transpose dimensions to match TensorFlow's format (\"NWC\" for 3D tensors)\n",
    "    x = tf.transpose(x, perm=[0, 2, 1])  # Assuming input shape is (\"NWC\")\n",
    "    kernel = tf.transpose(kernel, perm=[1, 0, 2])  # Assuming kernel shape is (\"WIO\")\n",
    "\n",
    "    # Create convolution layer\n",
    "    out_conv = tf.nn.convolution(\n",
    "        input=x,\n",
    "        filters=kernel,\n",
    "        padding=\"SAME\",\n",
    "        data_format=\"NWC\"  # Use \"NWC\" format for 3D tensors\n",
    "    )\n",
    "\n",
    "    # Transpose the output tensor back to the original shape (\"NCW\")\n",
    "    out_conv = tf.transpose(out_conv, perm=[0, 2, 1])\n",
    "\n",
    "    # Add bias (if provided)\n",
    "    if bias is not None:\n",
    "        out_conv += bias\n",
    "\n",
    "    return out_conv\n"
   ]
  },
  {
   "cell_type": "code",
   "execution_count": 16,
   "metadata": {},
   "outputs": [
    {
     "ename": "InvalidArgumentError",
     "evalue": "{{function_node __wrapped__Conv2D_device_/job:localhost/replica:0/task:0/device:CPU:0}} output depth must be evenly divisible by number of groups: 3 vs 50 [Op:Conv2D] name: ",
     "output_type": "error",
     "traceback": [
      "\u001b[1;31m---------------------------------------------------------------------------\u001b[0m",
      "\u001b[1;31mInvalidArgumentError\u001b[0m                      Traceback (most recent call last)",
      "Cell \u001b[1;32mIn[16], line 17\u001b[0m\n\u001b[0;32m     14\u001b[0m bias \u001b[39m=\u001b[39m tf\u001b[39m.\u001b[39mconstant(np\u001b[39m.\u001b[39mrandom\u001b[39m.\u001b[39mrand(\u001b[39m*\u001b[39mbias_shape)\u001b[39m.\u001b[39mastype(np\u001b[39m.\u001b[39mfloat32))\n\u001b[0;32m     16\u001b[0m \u001b[39m# Test the convolution_layer function\u001b[39;00m\n\u001b[1;32m---> 17\u001b[0m output \u001b[39m=\u001b[39m convolution_layer(kernel, bias, input_tensor)\n\u001b[0;32m     19\u001b[0m \u001b[39m# Check the shape of the output\u001b[39;00m\n\u001b[0;32m     20\u001b[0m \u001b[39mprint\u001b[39m(\u001b[39m\"\u001b[39m\u001b[39mOutput shape:\u001b[39m\u001b[39m\"\u001b[39m, output\u001b[39m.\u001b[39mshape)\n",
      "Cell \u001b[1;32mIn[13], line 14\u001b[0m, in \u001b[0;36mconvolution_layer\u001b[1;34m(kernel, bias, x, stride)\u001b[0m\n\u001b[0;32m     11\u001b[0m kernel \u001b[39m=\u001b[39m tf\u001b[39m.\u001b[39mtranspose(kernel, perm\u001b[39m=\u001b[39m[\u001b[39m1\u001b[39m, \u001b[39m0\u001b[39m, \u001b[39m2\u001b[39m])  \u001b[39m# Assuming kernel shape is (\"WIO\")\u001b[39;00m\n\u001b[0;32m     13\u001b[0m \u001b[39m# Create convolution layer\u001b[39;00m\n\u001b[1;32m---> 14\u001b[0m out_conv \u001b[39m=\u001b[39m tf\u001b[39m.\u001b[39;49mnn\u001b[39m.\u001b[39;49mconvolution(\n\u001b[0;32m     15\u001b[0m     \u001b[39minput\u001b[39;49m\u001b[39m=\u001b[39;49mx,\n\u001b[0;32m     16\u001b[0m     filters\u001b[39m=\u001b[39;49mkernel,\n\u001b[0;32m     17\u001b[0m     padding\u001b[39m=\u001b[39;49m\u001b[39m\"\u001b[39;49m\u001b[39mSAME\u001b[39;49m\u001b[39m\"\u001b[39;49m,\n\u001b[0;32m     18\u001b[0m     data_format\u001b[39m=\u001b[39;49m\u001b[39m\"\u001b[39;49m\u001b[39mNWC\u001b[39;49m\u001b[39m\"\u001b[39;49m  \u001b[39m# Use \"NWC\" format for 3D tensors\u001b[39;49;00m\n\u001b[0;32m     19\u001b[0m )\n\u001b[0;32m     21\u001b[0m \u001b[39m# Transpose the output tensor back to the original shape (\"NCW\")\u001b[39;00m\n\u001b[0;32m     22\u001b[0m out_conv \u001b[39m=\u001b[39m tf\u001b[39m.\u001b[39mtranspose(out_conv, perm\u001b[39m=\u001b[39m[\u001b[39m0\u001b[39m, \u001b[39m2\u001b[39m, \u001b[39m1\u001b[39m])\n",
      "File \u001b[1;32mc:\\Users\\sblot\\anaconda3\\envs\\Desktop\\lib\\site-packages\\tensorflow\\python\\util\\traceback_utils.py:153\u001b[0m, in \u001b[0;36mfilter_traceback.<locals>.error_handler\u001b[1;34m(*args, **kwargs)\u001b[0m\n\u001b[0;32m    151\u001b[0m \u001b[39mexcept\u001b[39;00m \u001b[39mException\u001b[39;00m \u001b[39mas\u001b[39;00m e:\n\u001b[0;32m    152\u001b[0m   filtered_tb \u001b[39m=\u001b[39m _process_traceback_frames(e\u001b[39m.\u001b[39m__traceback__)\n\u001b[1;32m--> 153\u001b[0m   \u001b[39mraise\u001b[39;00m e\u001b[39m.\u001b[39mwith_traceback(filtered_tb) \u001b[39mfrom\u001b[39;00m \u001b[39mNone\u001b[39;00m\n\u001b[0;32m    154\u001b[0m \u001b[39mfinally\u001b[39;00m:\n\u001b[0;32m    155\u001b[0m   \u001b[39mdel\u001b[39;00m filtered_tb\n",
      "File \u001b[1;32mc:\\Users\\sblot\\anaconda3\\envs\\Desktop\\lib\\site-packages\\tensorflow\\python\\framework\\ops.py:6656\u001b[0m, in \u001b[0;36mraise_from_not_ok_status\u001b[1;34m(e, name)\u001b[0m\n\u001b[0;32m   6654\u001b[0m \u001b[39mdef\u001b[39;00m \u001b[39mraise_from_not_ok_status\u001b[39m(e, name):\n\u001b[0;32m   6655\u001b[0m   e\u001b[39m.\u001b[39mmessage \u001b[39m+\u001b[39m\u001b[39m=\u001b[39m (\u001b[39m\"\u001b[39m\u001b[39m name: \u001b[39m\u001b[39m\"\u001b[39m \u001b[39m+\u001b[39m \u001b[39mstr\u001b[39m(name \u001b[39mif\u001b[39;00m name \u001b[39mis\u001b[39;00m \u001b[39mnot\u001b[39;00m \u001b[39mNone\u001b[39;00m \u001b[39melse\u001b[39;00m \u001b[39m\"\u001b[39m\u001b[39m\"\u001b[39m))\n\u001b[1;32m-> 6656\u001b[0m   \u001b[39mraise\u001b[39;00m core\u001b[39m.\u001b[39m_status_to_exception(e) \u001b[39mfrom\u001b[39;00m \u001b[39mNone\u001b[39;00m\n",
      "\u001b[1;31mInvalidArgumentError\u001b[0m: {{function_node __wrapped__Conv2D_device_/job:localhost/replica:0/task:0/device:CPU:0}} output depth must be evenly divisible by number of groups: 3 vs 50 [Op:Conv2D] name: "
     ]
    }
   ],
   "source": [
    "import tensorflow as tf\n",
    "import numpy as np\n",
    "\n",
    "# Define a sample input tensor (NWC format)\n",
    "input_shape = (2, 10000, 3)  # (batch_size, sequence_length, num_features)\n",
    "input_tensor = tf.constant(np.random.rand(*input_shape).astype(np.float32))\n",
    "\n",
    "# Define a sample kernel (WIO format)\n",
    "kernel_shape = (200, 3, 3)  # (filter_height, filter_width, num_input_channels)\n",
    "kernel = tf.constant(np.random.rand(*kernel_shape).astype(np.float32))\n",
    "\n",
    "# Define a sample bias (optional)\n",
    "bias_shape = (3,)  # (num_output_channels,)\n",
    "bias = tf.constant(np.random.rand(*bias_shape).astype(np.float32))\n",
    "\n",
    "# Test the convolution_layer function\n",
    "output = convolution_layer(kernel, bias, input_tensor)\n",
    "\n",
    "# Check the shape of the output\n",
    "print(\"Output shape:\", output.shape)\n"
   ]
  }
 ],
 "metadata": {
  "kernelspec": {
   "display_name": "Desktop",
   "language": "python",
   "name": "python3"
  },
  "language_info": {
   "codemirror_mode": {
    "name": "ipython",
    "version": 3
   },
   "file_extension": ".py",
   "mimetype": "text/x-python",
   "name": "python",
   "nbconvert_exporter": "python",
   "pygments_lexer": "ipython3",
   "version": "3.9.16"
  },
  "orig_nbformat": 4
 },
 "nbformat": 4,
 "nbformat_minor": 2
}
